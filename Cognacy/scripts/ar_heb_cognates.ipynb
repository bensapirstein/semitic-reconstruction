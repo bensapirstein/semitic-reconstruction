{
 "cells": [
  {
   "cell_type": "code",
   "execution_count": 3,
   "metadata": {},
   "outputs": [],
   "source": [
    "import pandas as pd\n",
    "sed = pd.read_csv('sed.tsv', sep='\\t', dtype={'ID': str})\n",
    "\n",
    "# group by cogid and filter out cogs without entries in either Hebrew or Arabic\n",
    "cogid_groups = sed.groupby('COGID')\n",
    "ArHeb_cogs = cogid_groups.filter(lambda x: any(x['LANGUAGE_NAME'] == 'Arabic') and any(x['LANGUAGE_NAME'] == 'Hebrew'))\n",
    "# take only entries in Hebrew and Arabic\n",
    "ArHeb_cogs = ArHeb_cogs[ArHeb_cogs['LANGUAGE_NAME'].isin(['Arabic', 'Hebrew'])]"
   ]
  },
  {
   "cell_type": "code",
   "execution_count": 11,
   "metadata": {},
   "outputs": [],
   "source": [
    "ArHeb_cogs[[\"COGID\", \"FORM\", \"CONCEPT\",\"LANGUAGE_NAME\"]].to_csv(\"arheb_cogs\", sep='\\t', index=False)"
   ]
  },
  {
   "cell_type": "code",
   "execution_count": 14,
   "metadata": {},
   "outputs": [
    {
     "data": {
      "text/plain": [
       "(2237, 13)"
      ]
     },
     "execution_count": 14,
     "metadata": {},
     "output_type": "execute_result"
    }
   ],
   "source": [
    "ArHeb_cogs.shape"
   ]
  },
  {
   "cell_type": "code",
   "execution_count": 12,
   "metadata": {},
   "outputs": [
    {
     "data": {
      "text/plain": [
       "(828,)"
      ]
     },
     "execution_count": 12,
     "metadata": {},
     "output_type": "execute_result"
    }
   ],
   "source": [
    "ArHeb_cogs.COGID.unique().shape"
   ]
  }
 ],
 "metadata": {
  "kernelspec": {
   "display_name": "venv",
   "language": "python",
   "name": "python3"
  },
  "language_info": {
   "codemirror_mode": {
    "name": "ipython",
    "version": 3
   },
   "file_extension": ".py",
   "mimetype": "text/x-python",
   "name": "python",
   "nbconvert_exporter": "python",
   "pygments_lexer": "ipython3",
   "version": "3.11.7"
  }
 },
 "nbformat": 4,
 "nbformat_minor": 2
}
