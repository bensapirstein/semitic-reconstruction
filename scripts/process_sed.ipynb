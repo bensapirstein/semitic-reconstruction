{
 "cells": [
  {
   "cell_type": "code",
   "execution_count": 1,
   "metadata": {},
   "outputs": [
    {
     "name": "stderr",
     "output_type": "stream",
     "text": [
      "/var/folders/tz/nj1np8hj5sn9b_q8m1628ssr0000gn/T/ipykernel_26268/4080736814.py:1: DeprecationWarning: \n",
      "Pyarrow will become a required dependency of pandas in the next major release of pandas (pandas 3.0),\n",
      "(to allow more performant data types, such as the Arrow string type, and better interoperability with other libraries)\n",
      "but was not found to be installed on your system.\n",
      "If this would cause problems for you,\n",
      "please provide us feedback at https://github.com/pandas-dev/pandas/issues/54466\n",
      "        \n",
      "  import pandas as pd\n"
     ]
    }
   ],
   "source": [
    "import pandas as pd"
   ]
  },
  {
   "cell_type": "code",
   "execution_count": 2,
   "metadata": {},
   "outputs": [],
   "source": [
    "sed = pd.read_csv('Scrapers/sed.tsv', sep='\\t', dtype={'ID': str})"
   ]
  },
  {
   "cell_type": "code",
   "execution_count": 3,
   "metadata": {},
   "outputs": [],
   "source": [
    "# process the data\n",
    "# split the FORM column by '/' and create a new row for each value\n",
    "sed1 = sed.assign(FORM=sed.FORM.str.split('/')).explode('FORM')\n",
    "# reassign 'FORM' to 'VALUE' column\n",
    "sed1[\"VALUE\"] = sed1[\"FORM\"]\n",
    "# split the CONCEPT column by ';' and create a new row for each value\n",
    "sed1 = sed1.assign(CONCEPT=sed1.CONCEPT.str.split(';')).explode('CONCEPT')\n",
    "# some of the CONCEPT values start with \"1. \", \"2. \", \"3. \" or \"I. \" \"II. \" \"III. \" \"IV.\". Remove these prefixes.\n",
    "# they might precede with a space, so we use a regex to remove them\n",
    "# remove the prefixes\n",
    "sed1['CONCEPT'] = sed1['CONCEPT'].str.replace(r'^\\s*\\d+\\. ', '', regex=True)\n",
    "# remove the prefixes\n",
    "sed1['CONCEPT'] = sed1['CONCEPT'].str.replace(r'^\\s*[IVX]+\\. ', '', regex=True)\n",
    "# some of the CONCEPT values contain \\([IVX]+\\) that separate between different concepts. Split these values by \\([IVX]+\\) and create a new row for each value\n",
    "sed1 = sed1.assign(CONCEPT=sed1.CONCEPT.str.split(r'\\([IVX]+\\)')).explode('CONCEPT')"
   ]
  },
  {
   "cell_type": "code",
   "execution_count": 4,
   "metadata": {},
   "outputs": [],
   "source": [
    "sed1.to_csv('sed.tsv', sep='\\t', index=False)"
   ]
  },
  {
   "cell_type": "markdown",
   "metadata": {},
   "source": [
    "# Create files according to CLDF specifications"
   ]
  },
  {
   "cell_type": "code",
   "execution_count": 13,
   "metadata": {},
   "outputs": [],
   "source": [
    "# create languages.tsv with the format\n",
    "# ID\tName\tGlottocode\tGlottolog_Name\tISO639P3code\tMacroarea\tLatitude\tLongitude\tFamily\tNameInSource\n",
    "\n",
    "langs = sed['DOCULECT'].unique()\n",
    "langs = pd.DataFrame(langs, columns=['NameInSource'])\n",
    "langs[\"Name\"] = langs[\"NameInSource\"]\n",
    "langs[\"ID\"] = langs[\"NameInSource\"]\n",
    "\n",
    "# save the data\n",
    "langs.to_csv('cldf/languages.tsv', sep='\\t', index=False)"
   ]
  },
  {
   "cell_type": "code",
   "execution_count": 11,
   "metadata": {},
   "outputs": [
    {
     "data": {
      "text/plain": [
       "['PS',\n",
       " 'Akkadian',\n",
       " 'Ugaritic',\n",
       " 'Phoenician',\n",
       " 'Hebrew',\n",
       " 'Official Aramaic',\n",
       " 'Hatran',\n",
       " 'Jewish Palestinian Aramaic',\n",
       " 'Christian Palestinian Aramaic',\n",
       " 'Samaritan',\n",
       " 'Jewish Babylonian Aramaic',\n",
       " 'Syriac',\n",
       " 'Mandaic',\n",
       " 'Maalula',\n",
       " 'Mlaḥso',\n",
       " 'Turoyo',\n",
       " 'Arabic',\n",
       " 'Sabaic',\n",
       " 'Hadramitic',\n",
       " 'Geez',\n",
       " 'Tigre',\n",
       " 'Tigrinya',\n",
       " 'Amharic',\n",
       " 'Mehri',\n",
       " 'Jibbali',\n",
       " 'Harsusi',\n",
       " 'Harari',\n",
       " 'Soddo',\n",
       " 'Soqotri',\n",
       " 'Palmyrean',\n",
       " 'Qatabanian',\n",
       " 'Ebla',\n",
       " 'Minaean',\n",
       " 'Gurage',\n",
       " 'Samalian',\n",
       " 'Old Aramaic',\n",
       " 'Nabataean',\n",
       " 'Selti',\n",
       " 'Wolane',\n",
       " 'Zway',\n",
       " 'Ezha',\n",
       " 'Endegen',\n",
       " 'Ennemor',\n",
       " 'Gyeto',\n",
       " 'Muher',\n",
       " 'Masqan',\n",
       " 'Gogot',\n",
       " 'Argobba',\n",
       " 'Biblical Aramaic',\n",
       " 'Hertevin',\n",
       " 'Gafat',\n",
       " 'Chaha',\n",
       " 'PWS',\n",
       " 'Proto-MSA',\n",
       " 'Amarna Canaanite',\n",
       " 'Deir Alla',\n",
       " 'Demotic Aramaic',\n",
       " 'Urmi',\n",
       " 'Moabite',\n",
       " 'Barwar',\n",
       " 'PC',\n",
       " 'PES',\n",
       " 'PCS',\n",
       " 'PNWS',\n",
       " 'PArm',\n",
       " 'Betanure',\n",
       " 'Ammonite',\n",
       " 'Jilu',\n",
       " 'Qaraqosh',\n",
       " 'Arbel',\n",
       " 'Geez (epigraphic)',\n",
       " 'Areal reconstruction']"
      ]
     },
     "execution_count": 11,
     "metadata": {},
     "output_type": "execute_result"
    }
   ],
   "source": [
    "list(langs[\"NameInSource\"])"
   ]
  }
 ],
 "metadata": {
  "kernelspec": {
   "display_name": ".venv",
   "language": "python",
   "name": "python3"
  },
  "language_info": {
   "codemirror_mode": {
    "name": "ipython",
    "version": 3
   },
   "file_extension": ".py",
   "mimetype": "text/x-python",
   "name": "python",
   "nbconvert_exporter": "python",
   "pygments_lexer": "ipython3",
   "version": "3.11.7"
  }
 },
 "nbformat": 4,
 "nbformat_minor": 2
}
